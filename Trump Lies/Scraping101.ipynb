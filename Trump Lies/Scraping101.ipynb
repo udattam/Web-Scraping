{
 "cells": [
  {
   "cell_type": "code",
   "execution_count": 1,
   "metadata": {},
   "outputs": [
    {
     "output_type": "execute_result",
     "data": {
      "text/plain": "'2.23.0'"
     },
     "metadata": {},
     "execution_count": 1
    }
   ],
   "source": [
    "#Getting the package we need\n",
    "import requests\n",
    "requests.__version__"
   ]
  },
  {
   "cell_type": "code",
   "execution_count": 2,
   "metadata": {},
   "outputs": [],
   "source": [
    "#Getting the webpage to us\n",
    "r = requests.get('https://www.nytimes.com/interactive/2017/06/23/opinion/trumps-lies.html')"
   ]
  },
  {
   "cell_type": "code",
   "execution_count": 3,
   "metadata": {},
   "outputs": [
    {
     "output_type": "stream",
     "name": "stdout",
     "text": "<!DOCTYPE html>\n<!--[if (gt IE 9)|!(IE)]> <!--><html lang=\"en\" class=\"no-js page-interactive section-opinion page-theme-standard tone-opinion page-interactive-default limit-small layout-xlarge app-interactive\" itemid=\"https://www.nytimes.com/interactive/2017/06/23/opinion/trumps-lies.html\" itemtype=\"http://schema.org/NewsArticle\" itemscope xmlns:og=\"http://opengraphprotocol.org/schema/\"><!--<![endif]-->\n<!--[if IE 9]> <html lang=\"en\" class=\"no-js ie9 lt-ie10 page-interactive section-opinion page\n"
    }
   ],
   "source": [
    "#Printing out the first 500 characters from the data from the webpage\n",
    "print(r.text[0:500])"
   ]
  },
  {
   "cell_type": "code",
   "execution_count": 4,
   "metadata": {},
   "outputs": [],
   "source": [
    "from bs4 import BeautifulSoup\n",
    "soup=BeautifulSoup(r.text,'html.parser')                                             #Parsing the content from the webpage using BeatifulSoup"
   ]
  },
  {
   "cell_type": "markdown",
   "metadata": {},
   "source": [
    "### Inspecting the page source, we see that there are two classes:\n",
    "### 1. short-desc\n",
    "### 2. short-truth\n",
    "\n",
    "#### short-desc has a strong date,then the lie under quotes and lastly a class named short-truth (more on it below)\n",
    "#### short-truth is a nested class of short-desc has a link revealing the truth and a short description of the truth under () being the text on which we have to click to reach the truth revealing article.\n",
    "\n",
    "##### Both classes are under span so that they are easily differentiable\n"
   ]
  },
  {
   "cell_type": "code",
   "execution_count": 5,
   "metadata": {
    "tags": [
     "outputPrepend"
    ]
   },
   "outputs": [],
   "source": [
    "results=soup.find_all('span',attrs={'class':'short-desc'})                            #Finding out all the presence of spans having class nameas short-desc"
   ]
  },
  {
   "cell_type": "code",
   "execution_count": 6,
   "metadata": {},
   "outputs": [
    {
     "output_type": "stream",
     "name": "stdout",
     "text": "180\n"
    }
   ],
   "source": [
    "print(len(results))"
   ]
  },
  {
   "cell_type": "code",
   "execution_count": 7,
   "metadata": {},
   "outputs": [
    {
     "output_type": "execute_result",
     "data": {
      "text/plain": "[<span class=\"short-desc\"><strong>Jan. 21 </strong>“I wasn't a fan of Iraq. I didn't want to go into Iraq.” <span class=\"short-truth\"><a href=\"https://www.buzzfeed.com/andrewkaczynski/in-2002-donald-trump-said-he-supported-invading-iraq-on-the\" target=\"_blank\">(He was for an invasion before he was against it.)</a></span></span>,\n <span class=\"short-desc\"><strong>Jan. 21 </strong>“A reporter for Time magazine — and I have been on their cover 14 or 15 times. I think we have the all-time record in the history of Time magazine.” <span class=\"short-truth\"><a href=\"http://nation.time.com/2013/11/06/10-things-you-didnt-know-about-time/\" target=\"_blank\">(Trump was on the cover 11 times and Nixon appeared 55 times.)</a></span></span>,\n <span class=\"short-desc\"><strong>Jan. 23 </strong>“Between 3 million and 5 million illegal votes caused me to lose the popular vote.” <span class=\"short-truth\"><a href=\"https://www.nytimes.com/2017/01/23/us/politics/donald-trump-congress-democrats.html\" target=\"_blank\">(There's no evidence of illegal voting.)</a></span></span>]"
     },
     "metadata": {},
     "execution_count": 7
    }
   ],
   "source": [
    "results[0:3]"
   ]
  },
  {
   "cell_type": "code",
   "execution_count": 8,
   "metadata": {},
   "outputs": [
    {
     "output_type": "execute_result",
     "data": {
      "text/plain": "<span class=\"short-desc\"><strong>Nov. 11 </strong>“I'd rather have him  – you know, work with him on the Ukraine than standing and arguing about whether or not  – because that whole thing was set up by the Democrats.” <span class=\"short-truth\"><a href=\"https://www.nytimes.com/interactive/2017/12/10/us/politics/trump-and-russia.html\" target=\"_blank\">(There is no evidence that Democrats \"set up\" Russian interference in the election.)</a></span></span>"
     },
     "metadata": {},
     "execution_count": 8
    }
   ],
   "source": [
    "results[-1]"
   ]
  },
  {
   "cell_type": "code",
   "execution_count": 9,
   "metadata": {},
   "outputs": [
    {
     "output_type": "execute_result",
     "data": {
      "text/plain": "<strong>Jan. 21 </strong>"
     },
     "metadata": {},
     "execution_count": 9
    }
   ],
   "source": [
    "trial=results[0]                                                                      #Finding the things between strong from the first results\n",
    "trial.find('strong')"
   ]
  },
  {
   "cell_type": "code",
   "execution_count": 10,
   "metadata": {},
   "outputs": [
    {
     "output_type": "execute_result",
     "data": {
      "text/plain": "'Jan. 21\\xa0'"
     },
     "metadata": {},
     "execution_count": 10
    }
   ],
   "source": [
    "trial.find('strong').text                                                             #Converting to string.There is some weird character at the end"
   ]
  },
  {
   "cell_type": "code",
   "execution_count": 11,
   "metadata": {},
   "outputs": [
    {
     "output_type": "execute_result",
     "data": {
      "text/plain": "'Jan. 21, 2017'"
     },
     "metadata": {},
     "execution_count": 11
    }
   ],
   "source": [
    "trial.find('strong').string.string.replace('\\xa0', ', 2017')                          #Replacing the weird characters with 2017 to make it look better"
   ]
  },
  {
   "cell_type": "code",
   "execution_count": 12,
   "metadata": {},
   "outputs": [
    {
     "output_type": "execute_result",
     "data": {
      "text/plain": "[<strong>Jan. 21 </strong>,\n \"“I wasn't a fan of Iraq. I didn't want to go into Iraq.” \",\n <span class=\"short-truth\"><a href=\"https://www.buzzfeed.com/andrewkaczynski/in-2002-donald-trump-said-he-supported-invading-iraq-on-the\" target=\"_blank\">(He was for an invasion before he was against it.)</a></span>]"
     },
     "metadata": {},
     "execution_count": 12
    }
   ],
   "source": [
    "trial.contents                                                                        #Making a list of all the data inside tria;"
   ]
  },
  {
   "cell_type": "code",
   "execution_count": 13,
   "metadata": {},
   "outputs": [
    {
     "output_type": "execute_result",
     "data": {
      "text/plain": "\"“I wasn't a fan of Iraq. I didn't want to go into Iraq.” \""
     },
     "metadata": {},
     "execution_count": 13
    }
   ],
   "source": [
    "trial.contents[1]               "
   ]
  },
  {
   "cell_type": "code",
   "execution_count": 14,
   "metadata": {},
   "outputs": [
    {
     "output_type": "execute_result",
     "data": {
      "text/plain": "\"I wasn't a fan of Iraq. I didn't want to go into Iraq.\""
     },
     "metadata": {},
     "execution_count": 14
    }
   ],
   "source": [
    "trial.contents[1][1:-2]                                                               #Removing the double quotes"
   ]
  },
  {
   "cell_type": "code",
   "execution_count": 15,
   "metadata": {},
   "outputs": [
    {
     "output_type": "execute_result",
     "data": {
      "text/plain": "<span class=\"short-truth\"><a href=\"https://www.buzzfeed.com/andrewkaczynski/in-2002-donald-trump-said-he-supported-invading-iraq-on-the\" target=\"_blank\">(He was for an invasion before he was against it.)</a></span>"
     },
     "metadata": {},
     "execution_count": 15
    }
   ],
   "source": [
    "trial.contents[2]"
   ]
  },
  {
   "cell_type": "code",
   "execution_count": 16,
   "metadata": {},
   "outputs": [
    {
     "output_type": "execute_result",
     "data": {
      "text/plain": "<a href=\"https://www.buzzfeed.com/andrewkaczynski/in-2002-donald-trump-said-he-supported-invading-iraq-on-the\" target=\"_blank\">(He was for an invasion before he was against it.)</a>"
     },
     "metadata": {},
     "execution_count": 16
    }
   ],
   "source": [
    "trial.find('a')                                                                       #Finding a tag from trial"
   ]
  },
  {
   "cell_type": "code",
   "execution_count": 17,
   "metadata": {},
   "outputs": [
    {
     "output_type": "execute_result",
     "data": {
      "text/plain": "['(He was for an invasion before he was against it.)']"
     },
     "metadata": {},
     "execution_count": 17
    }
   ],
   "source": [
    "trial.find('a').contents                                                              #Finding content of a tag in trial"
   ]
  },
  {
   "cell_type": "code",
   "execution_count": 18,
   "metadata": {},
   "outputs": [
    {
     "output_type": "execute_result",
     "data": {
      "text/plain": "'He was for an invasion before he was against it.'"
     },
     "metadata": {},
     "execution_count": 18
    }
   ],
   "source": [
    "trial.find('a').contents[0][1:-1]                                                     #Removing the brackets"
   ]
  },
  {
   "cell_type": "code",
   "execution_count": 19,
   "metadata": {},
   "outputs": [
    {
     "output_type": "execute_result",
     "data": {
      "text/plain": "'https://www.buzzfeed.com/andrewkaczynski/in-2002-donald-trump-said-he-supported-invading-iraq-on-the'"
     },
     "metadata": {},
     "execution_count": 19
    }
   ],
   "source": [
    "trial.find('a')['href']                                                               #Finding href from a tag"
   ]
  },
  {
   "cell_type": "code",
   "execution_count": 20,
   "metadata": {},
   "outputs": [
    {
     "output_type": "execute_result",
     "data": {
      "text/plain": "[('Jan. 21, 2017',\n  \"I wasn't a fan of Iraq. I didn't want to go into Iraq.\",\n  'He was for an invasion before he was against it.',\n  'https://www.buzzfeed.com/andrewkaczynski/in-2002-donald-trump-said-he-supported-invading-iraq-on-the'),\n ('Jan. 21, 2017',\n  'A reporter for Time magazine — and I have been on their cover 14 or 15 times. I think we have the all-time record in the history of Time magazine.',\n  'Trump was on the cover 11 times and Nixon appeared 55 times.',\n  'http://nation.time.com/2013/11/06/10-things-you-didnt-know-about-time/'),\n ('Jan. 23, 2017',\n  'Between 3 million and 5 million illegal votes caused me to lose the popular vote.',\n  \"There's no evidence of illegal voting.\",\n  'https://www.nytimes.com/2017/01/23/us/politics/donald-trump-congress-democrats.html')]"
     },
     "metadata": {},
     "execution_count": 20
    }
   ],
   "source": [
    "#Making dataset\n",
    "records=[]\n",
    "for result in results:\n",
    "    date=result.find('strong').string.string.replace('\\xa0',', 2017')\n",
    "    lie=result.contents[1][1:-2]\n",
    "    explanation=result.find('a').text[1:-1]\n",
    "    url=result.find('a')['href']\n",
    "    records.append((date,lie,explanation,url))\n",
    "records[0:3]                          "
   ]
  },
  {
   "cell_type": "code",
   "execution_count": 21,
   "metadata": {},
   "outputs": [
    {
     "output_type": "execute_result",
     "data": {
      "text/plain": "'1.0.3'"
     },
     "metadata": {},
     "execution_count": 21
    }
   ],
   "source": [
    "import pandas as pd\n",
    "pd.__version__"
   ]
  },
  {
   "cell_type": "code",
   "execution_count": 22,
   "metadata": {},
   "outputs": [],
   "source": [
    "df=pd.DataFrame(records,columns=['date','lie','explanation','url'],)               #Making a dataframe from the dataset"
   ]
  },
  {
   "cell_type": "code",
   "execution_count": 23,
   "metadata": {},
   "outputs": [
    {
     "output_type": "execute_result",
     "data": {
      "text/plain": "            date                                                lie  \\\n0  Jan. 21, 2017  I wasn't a fan of Iraq. I didn't want to go in...   \n1  Jan. 21, 2017  A reporter for Time magazine — and I have been...   \n2  Jan. 23, 2017  Between 3 million and 5 million illegal votes ...   \n3  Jan. 25, 2017  Now, the audience was the biggest ever. But th...   \n4  Jan. 25, 2017  Take a look at the Pew reports (which show vot...   \n\n                                         explanation  \\\n0   He was for an invasion before he was against it.   \n1  Trump was on the cover 11 times and Nixon appe...   \n2             There's no evidence of illegal voting.   \n3  Official aerial photos show Obama's 2009 inaug...   \n4            The report never mentioned voter fraud.   \n\n                                                 url  \n0  https://www.buzzfeed.com/andrewkaczynski/in-20...  \n1  http://nation.time.com/2013/11/06/10-things-yo...  \n2  https://www.nytimes.com/2017/01/23/us/politics...  \n3  https://www.nytimes.com/2017/01/21/us/politics...  \n4  https://www.nytimes.com/2017/01/24/us/politics...  ",
      "text/html": "<div>\n<style scoped>\n    .dataframe tbody tr th:only-of-type {\n        vertical-align: middle;\n    }\n\n    .dataframe tbody tr th {\n        vertical-align: top;\n    }\n\n    .dataframe thead th {\n        text-align: right;\n    }\n</style>\n<table border=\"1\" class=\"dataframe\">\n  <thead>\n    <tr style=\"text-align: right;\">\n      <th></th>\n      <th>date</th>\n      <th>lie</th>\n      <th>explanation</th>\n      <th>url</th>\n    </tr>\n  </thead>\n  <tbody>\n    <tr>\n      <th>0</th>\n      <td>Jan. 21, 2017</td>\n      <td>I wasn't a fan of Iraq. I didn't want to go in...</td>\n      <td>He was for an invasion before he was against it.</td>\n      <td>https://www.buzzfeed.com/andrewkaczynski/in-20...</td>\n    </tr>\n    <tr>\n      <th>1</th>\n      <td>Jan. 21, 2017</td>\n      <td>A reporter for Time magazine — and I have been...</td>\n      <td>Trump was on the cover 11 times and Nixon appe...</td>\n      <td>http://nation.time.com/2013/11/06/10-things-yo...</td>\n    </tr>\n    <tr>\n      <th>2</th>\n      <td>Jan. 23, 2017</td>\n      <td>Between 3 million and 5 million illegal votes ...</td>\n      <td>There's no evidence of illegal voting.</td>\n      <td>https://www.nytimes.com/2017/01/23/us/politics...</td>\n    </tr>\n    <tr>\n      <th>3</th>\n      <td>Jan. 25, 2017</td>\n      <td>Now, the audience was the biggest ever. But th...</td>\n      <td>Official aerial photos show Obama's 2009 inaug...</td>\n      <td>https://www.nytimes.com/2017/01/21/us/politics...</td>\n    </tr>\n    <tr>\n      <th>4</th>\n      <td>Jan. 25, 2017</td>\n      <td>Take a look at the Pew reports (which show vot...</td>\n      <td>The report never mentioned voter fraud.</td>\n      <td>https://www.nytimes.com/2017/01/24/us/politics...</td>\n    </tr>\n  </tbody>\n</table>\n</div>"
     },
     "metadata": {},
     "execution_count": 23
    }
   ],
   "source": [
    "df.head()"
   ]
  },
  {
   "cell_type": "code",
   "execution_count": 24,
   "metadata": {},
   "outputs": [
    {
     "output_type": "execute_result",
     "data": {
      "text/plain": "              date                                                lie  \\\n175  Oct. 25, 2017      We have trade deficits with almost everybody.   \n176  Oct. 27, 2017  Wacky & totally unhinged Tom Steyer, who has b...   \n177   Nov. 1, 2017  Again, we're the highest-taxed nation, just ab...   \n178   Nov. 7, 2017  When you look at the city with the strongest g...   \n179  Nov. 11, 2017  I'd rather have him  – you know, work with him...   \n\n                                           explanation  \\\n175  We have trade surpluses with more than 100 cou...   \n176  Steyer has financially supported many winning ...   \n177                                         We're not.   \n178  Several other cities, including New York and L...   \n179  There is no evidence that Democrats \"set up\" R...   \n\n                                                   url  \n175  https://www.bea.gov/newsreleases/international...  \n176  https://www.opensecrets.org/donor-lookup/resul...  \n177  http://www.politifact.com/truth-o-meter/statem...  \n178  http://www.politifact.com/truth-o-meter/statem...  \n179  https://www.nytimes.com/interactive/2017/12/10...  ",
      "text/html": "<div>\n<style scoped>\n    .dataframe tbody tr th:only-of-type {\n        vertical-align: middle;\n    }\n\n    .dataframe tbody tr th {\n        vertical-align: top;\n    }\n\n    .dataframe thead th {\n        text-align: right;\n    }\n</style>\n<table border=\"1\" class=\"dataframe\">\n  <thead>\n    <tr style=\"text-align: right;\">\n      <th></th>\n      <th>date</th>\n      <th>lie</th>\n      <th>explanation</th>\n      <th>url</th>\n    </tr>\n  </thead>\n  <tbody>\n    <tr>\n      <th>175</th>\n      <td>Oct. 25, 2017</td>\n      <td>We have trade deficits with almost everybody.</td>\n      <td>We have trade surpluses with more than 100 cou...</td>\n      <td>https://www.bea.gov/newsreleases/international...</td>\n    </tr>\n    <tr>\n      <th>176</th>\n      <td>Oct. 27, 2017</td>\n      <td>Wacky &amp; totally unhinged Tom Steyer, who has b...</td>\n      <td>Steyer has financially supported many winning ...</td>\n      <td>https://www.opensecrets.org/donor-lookup/resul...</td>\n    </tr>\n    <tr>\n      <th>177</th>\n      <td>Nov. 1, 2017</td>\n      <td>Again, we're the highest-taxed nation, just ab...</td>\n      <td>We're not.</td>\n      <td>http://www.politifact.com/truth-o-meter/statem...</td>\n    </tr>\n    <tr>\n      <th>178</th>\n      <td>Nov. 7, 2017</td>\n      <td>When you look at the city with the strongest g...</td>\n      <td>Several other cities, including New York and L...</td>\n      <td>http://www.politifact.com/truth-o-meter/statem...</td>\n    </tr>\n    <tr>\n      <th>179</th>\n      <td>Nov. 11, 2017</td>\n      <td>I'd rather have him  – you know, work with him...</td>\n      <td>There is no evidence that Democrats \"set up\" R...</td>\n      <td>https://www.nytimes.com/interactive/2017/12/10...</td>\n    </tr>\n  </tbody>\n</table>\n</div>"
     },
     "metadata": {},
     "execution_count": 24
    }
   ],
   "source": [
    "df.tail(5)"
   ]
  },
  {
   "cell_type": "code",
   "execution_count": 25,
   "metadata": {},
   "outputs": [],
   "source": [
    "df['date']=pd.to_datetime(df['date'])                                              #Converting date to date in numbers"
   ]
  },
  {
   "cell_type": "code",
   "execution_count": 26,
   "metadata": {},
   "outputs": [
    {
     "output_type": "execute_result",
     "data": {
      "text/plain": "        date                                                lie  \\\n0 2017-01-21  I wasn't a fan of Iraq. I didn't want to go in...   \n1 2017-01-21  A reporter for Time magazine — and I have been...   \n2 2017-01-23  Between 3 million and 5 million illegal votes ...   \n3 2017-01-25  Now, the audience was the biggest ever. But th...   \n4 2017-01-25  Take a look at the Pew reports (which show vot...   \n\n                                         explanation  \\\n0   He was for an invasion before he was against it.   \n1  Trump was on the cover 11 times and Nixon appe...   \n2             There's no evidence of illegal voting.   \n3  Official aerial photos show Obama's 2009 inaug...   \n4            The report never mentioned voter fraud.   \n\n                                                 url  \n0  https://www.buzzfeed.com/andrewkaczynski/in-20...  \n1  http://nation.time.com/2013/11/06/10-things-yo...  \n2  https://www.nytimes.com/2017/01/23/us/politics...  \n3  https://www.nytimes.com/2017/01/21/us/politics...  \n4  https://www.nytimes.com/2017/01/24/us/politics...  ",
      "text/html": "<div>\n<style scoped>\n    .dataframe tbody tr th:only-of-type {\n        vertical-align: middle;\n    }\n\n    .dataframe tbody tr th {\n        vertical-align: top;\n    }\n\n    .dataframe thead th {\n        text-align: right;\n    }\n</style>\n<table border=\"1\" class=\"dataframe\">\n  <thead>\n    <tr style=\"text-align: right;\">\n      <th></th>\n      <th>date</th>\n      <th>lie</th>\n      <th>explanation</th>\n      <th>url</th>\n    </tr>\n  </thead>\n  <tbody>\n    <tr>\n      <th>0</th>\n      <td>2017-01-21</td>\n      <td>I wasn't a fan of Iraq. I didn't want to go in...</td>\n      <td>He was for an invasion before he was against it.</td>\n      <td>https://www.buzzfeed.com/andrewkaczynski/in-20...</td>\n    </tr>\n    <tr>\n      <th>1</th>\n      <td>2017-01-21</td>\n      <td>A reporter for Time magazine — and I have been...</td>\n      <td>Trump was on the cover 11 times and Nixon appe...</td>\n      <td>http://nation.time.com/2013/11/06/10-things-yo...</td>\n    </tr>\n    <tr>\n      <th>2</th>\n      <td>2017-01-23</td>\n      <td>Between 3 million and 5 million illegal votes ...</td>\n      <td>There's no evidence of illegal voting.</td>\n      <td>https://www.nytimes.com/2017/01/23/us/politics...</td>\n    </tr>\n    <tr>\n      <th>3</th>\n      <td>2017-01-25</td>\n      <td>Now, the audience was the biggest ever. But th...</td>\n      <td>Official aerial photos show Obama's 2009 inaug...</td>\n      <td>https://www.nytimes.com/2017/01/21/us/politics...</td>\n    </tr>\n    <tr>\n      <th>4</th>\n      <td>2017-01-25</td>\n      <td>Take a look at the Pew reports (which show vot...</td>\n      <td>The report never mentioned voter fraud.</td>\n      <td>https://www.nytimes.com/2017/01/24/us/politics...</td>\n    </tr>\n  </tbody>\n</table>\n</div>"
     },
     "metadata": {},
     "execution_count": 26
    }
   ],
   "source": [
    "df.head()"
   ]
  },
  {
   "cell_type": "code",
   "execution_count": 27,
   "metadata": {},
   "outputs": [
    {
     "output_type": "execute_result",
     "data": {
      "text/plain": "          date                                                lie  \\\n175 2017-10-25      We have trade deficits with almost everybody.   \n176 2017-10-27  Wacky & totally unhinged Tom Steyer, who has b...   \n177 2017-11-01  Again, we're the highest-taxed nation, just ab...   \n178 2017-11-07  When you look at the city with the strongest g...   \n179 2017-11-11  I'd rather have him  – you know, work with him...   \n\n                                           explanation  \\\n175  We have trade surpluses with more than 100 cou...   \n176  Steyer has financially supported many winning ...   \n177                                         We're not.   \n178  Several other cities, including New York and L...   \n179  There is no evidence that Democrats \"set up\" R...   \n\n                                                   url  \n175  https://www.bea.gov/newsreleases/international...  \n176  https://www.opensecrets.org/donor-lookup/resul...  \n177  http://www.politifact.com/truth-o-meter/statem...  \n178  http://www.politifact.com/truth-o-meter/statem...  \n179  https://www.nytimes.com/interactive/2017/12/10...  ",
      "text/html": "<div>\n<style scoped>\n    .dataframe tbody tr th:only-of-type {\n        vertical-align: middle;\n    }\n\n    .dataframe tbody tr th {\n        vertical-align: top;\n    }\n\n    .dataframe thead th {\n        text-align: right;\n    }\n</style>\n<table border=\"1\" class=\"dataframe\">\n  <thead>\n    <tr style=\"text-align: right;\">\n      <th></th>\n      <th>date</th>\n      <th>lie</th>\n      <th>explanation</th>\n      <th>url</th>\n    </tr>\n  </thead>\n  <tbody>\n    <tr>\n      <th>175</th>\n      <td>2017-10-25</td>\n      <td>We have trade deficits with almost everybody.</td>\n      <td>We have trade surpluses with more than 100 cou...</td>\n      <td>https://www.bea.gov/newsreleases/international...</td>\n    </tr>\n    <tr>\n      <th>176</th>\n      <td>2017-10-27</td>\n      <td>Wacky &amp; totally unhinged Tom Steyer, who has b...</td>\n      <td>Steyer has financially supported many winning ...</td>\n      <td>https://www.opensecrets.org/donor-lookup/resul...</td>\n    </tr>\n    <tr>\n      <th>177</th>\n      <td>2017-11-01</td>\n      <td>Again, we're the highest-taxed nation, just ab...</td>\n      <td>We're not.</td>\n      <td>http://www.politifact.com/truth-o-meter/statem...</td>\n    </tr>\n    <tr>\n      <th>178</th>\n      <td>2017-11-07</td>\n      <td>When you look at the city with the strongest g...</td>\n      <td>Several other cities, including New York and L...</td>\n      <td>http://www.politifact.com/truth-o-meter/statem...</td>\n    </tr>\n    <tr>\n      <th>179</th>\n      <td>2017-11-11</td>\n      <td>I'd rather have him  – you know, work with him...</td>\n      <td>There is no evidence that Democrats \"set up\" R...</td>\n      <td>https://www.nytimes.com/interactive/2017/12/10...</td>\n    </tr>\n  </tbody>\n</table>\n</div>"
     },
     "metadata": {},
     "execution_count": 27
    }
   ],
   "source": [
    "df.tail()"
   ]
  },
  {
   "cell_type": "code",
   "execution_count": 28,
   "metadata": {},
   "outputs": [],
   "source": [
    "df.to_excel('trump_lies.xlsx',index=False,encoding='utf-8')                        #Writing the data to a excel file\n",
    "df.to_csv('trump_lies.csv',index=False)                                            #Writing the data to a csv file"
   ]
  },
  {
   "cell_type": "code",
   "execution_count": 29,
   "metadata": {},
   "outputs": [],
   "source": [
    "df=pd.read_csv('trump_lies.csv')                                                   #Reading the data   "
   ]
  },
  {
   "cell_type": "code",
   "execution_count": 30,
   "metadata": {},
   "outputs": [
    {
     "output_type": "execute_result",
     "data": {
      "text/plain": "           date                                                lie  \\\n0    2017-01-21  I wasn't a fan of Iraq. I didn't want to go in...   \n1    2017-01-21  A reporter for Time magazine — and I have been...   \n2    2017-01-23  Between 3 million and 5 million illegal votes ...   \n3    2017-01-25  Now, the audience was the biggest ever. But th...   \n4    2017-01-25  Take a look at the Pew reports (which show vot...   \n..          ...                                                ...   \n175  2017-10-25      We have trade deficits with almost everybody.   \n176  2017-10-27  Wacky & totally unhinged Tom Steyer, who has b...   \n177  2017-11-01  Again, we're the highest-taxed nation, just ab...   \n178  2017-11-07  When you look at the city with the strongest g...   \n179  2017-11-11  I'd rather have him  – you know, work with him...   \n\n                                           explanation  \\\n0     He was for an invasion before he was against it.   \n1    Trump was on the cover 11 times and Nixon appe...   \n2               There's no evidence of illegal voting.   \n3    Official aerial photos show Obama's 2009 inaug...   \n4              The report never mentioned voter fraud.   \n..                                                 ...   \n175  We have trade surpluses with more than 100 cou...   \n176  Steyer has financially supported many winning ...   \n177                                         We're not.   \n178  Several other cities, including New York and L...   \n179  There is no evidence that Democrats \"set up\" R...   \n\n                                                   url  \n0    https://www.buzzfeed.com/andrewkaczynski/in-20...  \n1    http://nation.time.com/2013/11/06/10-things-yo...  \n2    https://www.nytimes.com/2017/01/23/us/politics...  \n3    https://www.nytimes.com/2017/01/21/us/politics...  \n4    https://www.nytimes.com/2017/01/24/us/politics...  \n..                                                 ...  \n175  https://www.bea.gov/newsreleases/international...  \n176  https://www.opensecrets.org/donor-lookup/resul...  \n177  http://www.politifact.com/truth-o-meter/statem...  \n178  http://www.politifact.com/truth-o-meter/statem...  \n179  https://www.nytimes.com/interactive/2017/12/10...  \n\n[180 rows x 4 columns]",
      "text/html": "<div>\n<style scoped>\n    .dataframe tbody tr th:only-of-type {\n        vertical-align: middle;\n    }\n\n    .dataframe tbody tr th {\n        vertical-align: top;\n    }\n\n    .dataframe thead th {\n        text-align: right;\n    }\n</style>\n<table border=\"1\" class=\"dataframe\">\n  <thead>\n    <tr style=\"text-align: right;\">\n      <th></th>\n      <th>date</th>\n      <th>lie</th>\n      <th>explanation</th>\n      <th>url</th>\n    </tr>\n  </thead>\n  <tbody>\n    <tr>\n      <th>0</th>\n      <td>2017-01-21</td>\n      <td>I wasn't a fan of Iraq. I didn't want to go in...</td>\n      <td>He was for an invasion before he was against it.</td>\n      <td>https://www.buzzfeed.com/andrewkaczynski/in-20...</td>\n    </tr>\n    <tr>\n      <th>1</th>\n      <td>2017-01-21</td>\n      <td>A reporter for Time magazine — and I have been...</td>\n      <td>Trump was on the cover 11 times and Nixon appe...</td>\n      <td>http://nation.time.com/2013/11/06/10-things-yo...</td>\n    </tr>\n    <tr>\n      <th>2</th>\n      <td>2017-01-23</td>\n      <td>Between 3 million and 5 million illegal votes ...</td>\n      <td>There's no evidence of illegal voting.</td>\n      <td>https://www.nytimes.com/2017/01/23/us/politics...</td>\n    </tr>\n    <tr>\n      <th>3</th>\n      <td>2017-01-25</td>\n      <td>Now, the audience was the biggest ever. But th...</td>\n      <td>Official aerial photos show Obama's 2009 inaug...</td>\n      <td>https://www.nytimes.com/2017/01/21/us/politics...</td>\n    </tr>\n    <tr>\n      <th>4</th>\n      <td>2017-01-25</td>\n      <td>Take a look at the Pew reports (which show vot...</td>\n      <td>The report never mentioned voter fraud.</td>\n      <td>https://www.nytimes.com/2017/01/24/us/politics...</td>\n    </tr>\n    <tr>\n      <th>...</th>\n      <td>...</td>\n      <td>...</td>\n      <td>...</td>\n      <td>...</td>\n    </tr>\n    <tr>\n      <th>175</th>\n      <td>2017-10-25</td>\n      <td>We have trade deficits with almost everybody.</td>\n      <td>We have trade surpluses with more than 100 cou...</td>\n      <td>https://www.bea.gov/newsreleases/international...</td>\n    </tr>\n    <tr>\n      <th>176</th>\n      <td>2017-10-27</td>\n      <td>Wacky &amp; totally unhinged Tom Steyer, who has b...</td>\n      <td>Steyer has financially supported many winning ...</td>\n      <td>https://www.opensecrets.org/donor-lookup/resul...</td>\n    </tr>\n    <tr>\n      <th>177</th>\n      <td>2017-11-01</td>\n      <td>Again, we're the highest-taxed nation, just ab...</td>\n      <td>We're not.</td>\n      <td>http://www.politifact.com/truth-o-meter/statem...</td>\n    </tr>\n    <tr>\n      <th>178</th>\n      <td>2017-11-07</td>\n      <td>When you look at the city with the strongest g...</td>\n      <td>Several other cities, including New York and L...</td>\n      <td>http://www.politifact.com/truth-o-meter/statem...</td>\n    </tr>\n    <tr>\n      <th>179</th>\n      <td>2017-11-11</td>\n      <td>I'd rather have him  – you know, work with him...</td>\n      <td>There is no evidence that Democrats \"set up\" R...</td>\n      <td>https://www.nytimes.com/interactive/2017/12/10...</td>\n    </tr>\n  </tbody>\n</table>\n<p>180 rows × 4 columns</p>\n</div>"
     },
     "metadata": {},
     "execution_count": 30
    }
   ],
   "source": [
    "df"
   ]
  },
  {
   "cell_type": "code",
   "execution_count": 31,
   "metadata": {},
   "outputs": [],
   "source": [
    "df_xlsx=pd.read_excel('trump_lies.xlsx')                                           #Reading the data"
   ]
  },
  {
   "cell_type": "code",
   "execution_count": 32,
   "metadata": {},
   "outputs": [
    {
     "output_type": "execute_result",
     "data": {
      "text/plain": "          date                                                lie  \\\n0   2017-01-21  I wasn't a fan of Iraq. I didn't want to go in...   \n1   2017-01-21  A reporter for Time magazine — and I have been...   \n2   2017-01-23  Between 3 million and 5 million illegal votes ...   \n3   2017-01-25  Now, the audience was the biggest ever. But th...   \n4   2017-01-25  Take a look at the Pew reports (which show vot...   \n..         ...                                                ...   \n175 2017-10-25      We have trade deficits with almost everybody.   \n176 2017-10-27  Wacky & totally unhinged Tom Steyer, who has b...   \n177 2017-11-01  Again, we're the highest-taxed nation, just ab...   \n178 2017-11-07  When you look at the city with the strongest g...   \n179 2017-11-11  I'd rather have him  – you know, work with him...   \n\n                                           explanation  \\\n0     He was for an invasion before he was against it.   \n1    Trump was on the cover 11 times and Nixon appe...   \n2               There's no evidence of illegal voting.   \n3    Official aerial photos show Obama's 2009 inaug...   \n4              The report never mentioned voter fraud.   \n..                                                 ...   \n175  We have trade surpluses with more than 100 cou...   \n176  Steyer has financially supported many winning ...   \n177                                         We're not.   \n178  Several other cities, including New York and L...   \n179  There is no evidence that Democrats \"set up\" R...   \n\n                                                   url  \n0    https://www.buzzfeed.com/andrewkaczynski/in-20...  \n1    http://nation.time.com/2013/11/06/10-things-yo...  \n2    https://www.nytimes.com/2017/01/23/us/politics...  \n3    https://www.nytimes.com/2017/01/21/us/politics...  \n4    https://www.nytimes.com/2017/01/24/us/politics...  \n..                                                 ...  \n175  https://www.bea.gov/newsreleases/international...  \n176  https://www.opensecrets.org/donor-lookup/resul...  \n177  http://www.politifact.com/truth-o-meter/statem...  \n178  http://www.politifact.com/truth-o-meter/statem...  \n179  https://www.nytimes.com/interactive/2017/12/10...  \n\n[180 rows x 4 columns]",
      "text/html": "<div>\n<style scoped>\n    .dataframe tbody tr th:only-of-type {\n        vertical-align: middle;\n    }\n\n    .dataframe tbody tr th {\n        vertical-align: top;\n    }\n\n    .dataframe thead th {\n        text-align: right;\n    }\n</style>\n<table border=\"1\" class=\"dataframe\">\n  <thead>\n    <tr style=\"text-align: right;\">\n      <th></th>\n      <th>date</th>\n      <th>lie</th>\n      <th>explanation</th>\n      <th>url</th>\n    </tr>\n  </thead>\n  <tbody>\n    <tr>\n      <th>0</th>\n      <td>2017-01-21</td>\n      <td>I wasn't a fan of Iraq. I didn't want to go in...</td>\n      <td>He was for an invasion before he was against it.</td>\n      <td>https://www.buzzfeed.com/andrewkaczynski/in-20...</td>\n    </tr>\n    <tr>\n      <th>1</th>\n      <td>2017-01-21</td>\n      <td>A reporter for Time magazine — and I have been...</td>\n      <td>Trump was on the cover 11 times and Nixon appe...</td>\n      <td>http://nation.time.com/2013/11/06/10-things-yo...</td>\n    </tr>\n    <tr>\n      <th>2</th>\n      <td>2017-01-23</td>\n      <td>Between 3 million and 5 million illegal votes ...</td>\n      <td>There's no evidence of illegal voting.</td>\n      <td>https://www.nytimes.com/2017/01/23/us/politics...</td>\n    </tr>\n    <tr>\n      <th>3</th>\n      <td>2017-01-25</td>\n      <td>Now, the audience was the biggest ever. But th...</td>\n      <td>Official aerial photos show Obama's 2009 inaug...</td>\n      <td>https://www.nytimes.com/2017/01/21/us/politics...</td>\n    </tr>\n    <tr>\n      <th>4</th>\n      <td>2017-01-25</td>\n      <td>Take a look at the Pew reports (which show vot...</td>\n      <td>The report never mentioned voter fraud.</td>\n      <td>https://www.nytimes.com/2017/01/24/us/politics...</td>\n    </tr>\n    <tr>\n      <th>...</th>\n      <td>...</td>\n      <td>...</td>\n      <td>...</td>\n      <td>...</td>\n    </tr>\n    <tr>\n      <th>175</th>\n      <td>2017-10-25</td>\n      <td>We have trade deficits with almost everybody.</td>\n      <td>We have trade surpluses with more than 100 cou...</td>\n      <td>https://www.bea.gov/newsreleases/international...</td>\n    </tr>\n    <tr>\n      <th>176</th>\n      <td>2017-10-27</td>\n      <td>Wacky &amp; totally unhinged Tom Steyer, who has b...</td>\n      <td>Steyer has financially supported many winning ...</td>\n      <td>https://www.opensecrets.org/donor-lookup/resul...</td>\n    </tr>\n    <tr>\n      <th>177</th>\n      <td>2017-11-01</td>\n      <td>Again, we're the highest-taxed nation, just ab...</td>\n      <td>We're not.</td>\n      <td>http://www.politifact.com/truth-o-meter/statem...</td>\n    </tr>\n    <tr>\n      <th>178</th>\n      <td>2017-11-07</td>\n      <td>When you look at the city with the strongest g...</td>\n      <td>Several other cities, including New York and L...</td>\n      <td>http://www.politifact.com/truth-o-meter/statem...</td>\n    </tr>\n    <tr>\n      <th>179</th>\n      <td>2017-11-11</td>\n      <td>I'd rather have him  – you know, work with him...</td>\n      <td>There is no evidence that Democrats \"set up\" R...</td>\n      <td>https://www.nytimes.com/interactive/2017/12/10...</td>\n    </tr>\n  </tbody>\n</table>\n<p>180 rows × 4 columns</p>\n</div>"
     },
     "metadata": {},
     "execution_count": 32
    }
   ],
   "source": [
    "df_xlsx"
   ]
  }
 ],
 "metadata": {
  "language_info": {
   "codemirror_mode": {
    "name": "ipython",
    "version": 3
   },
   "file_extension": ".py",
   "mimetype": "text/x-python",
   "name": "python",
   "nbconvert_exporter": "python",
   "pygments_lexer": "ipython3",
   "version": "3.8.2-final"
  },
  "orig_nbformat": 2,
  "kernelspec": {
   "name": "python38264bit3d15c6926d934a5e98310858fe52ace9",
   "display_name": "Python 3.8.2 64-bit"
  }
 },
 "nbformat": 4,
 "nbformat_minor": 2
}